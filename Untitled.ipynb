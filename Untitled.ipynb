{
 "cells": [
  {
   "cell_type": "code",
   "execution_count": 1,
   "id": "6391fae1",
   "metadata": {},
   "outputs": [],
   "source": [
    "import pandas as pd\n",
    "from sklearn.model_selection import train_test_split\n",
    "from sklearn.svm import SVC\n",
    "from sklearn.metrics import classification_report\n",
    "import pickle\n",
    "from sklearn.model_selection import GridSearchCV\n",
    "from sklearn.preprocessing import StandardScaler\n",
    "from sklearn.metrics import accuracy_score"
   ]
  },
  {
   "cell_type": "code",
   "execution_count": 2,
   "id": "4ae44b76",
   "metadata": {},
   "outputs": [],
   "source": [
    "# loading the diabetes dataset to a pandas DataFrame\n",
    "df = pd.read_csv('./diabetes.csv')\n",
    "X, Y = df.drop(columns='Outcome', axis=1), df['Outcome']"
   ]
  },
  {
   "cell_type": "code",
   "execution_count": 3,
   "id": "24f52200",
   "metadata": {},
   "outputs": [],
   "source": [
    "X_train, X_test, Y_train, Y_test = train_test_split(X, Y, test_size=0.2, stratify=Y, random_state=42)"
   ]
  },
  {
   "cell_type": "code",
   "execution_count": 5,
   "id": "e75dcb7b",
   "metadata": {
    "scrolled": true
   },
   "outputs": [
    {
     "name": "stdout",
     "output_type": "stream",
     "text": [
      "Fitting 5 folds for each of 25 candidates, totalling 125 fits\n",
      "[CV 1/5] END ....................C=0.1, gamma=1;, score=0.650 total time=   0.5s\n",
      "[CV 2/5] END ....................C=0.1, gamma=1;, score=0.650 total time=   0.4s\n",
      "[CV 3/5] END ....................C=0.1, gamma=1;, score=0.650 total time=   0.4s\n",
      "[CV 4/5] END ....................C=0.1, gamma=1;, score=0.650 total time=   0.3s\n",
      "[CV 5/5] END ....................C=0.1, gamma=1;, score=0.656 total time=   0.5s\n",
      "[CV 1/5] END ..................C=0.1, gamma=0.1;, score=0.650 total time=   0.3s\n",
      "[CV 2/5] END ..................C=0.1, gamma=0.1;, score=0.650 total time=   0.3s\n",
      "[CV 3/5] END ..................C=0.1, gamma=0.1;, score=0.650 total time=   0.3s\n",
      "[CV 4/5] END ..................C=0.1, gamma=0.1;, score=0.650 total time=   0.3s\n",
      "[CV 5/5] END ..................C=0.1, gamma=0.1;, score=0.656 total time=   0.3s\n",
      "[CV 1/5] END .................C=0.1, gamma=0.01;, score=0.650 total time=   0.2s\n",
      "[CV 2/5] END .................C=0.1, gamma=0.01;, score=0.650 total time=   0.3s\n",
      "[CV 3/5] END .................C=0.1, gamma=0.01;, score=0.650 total time=   0.2s\n",
      "[CV 4/5] END .................C=0.1, gamma=0.01;, score=0.650 total time=   0.3s\n",
      "[CV 5/5] END .................C=0.1, gamma=0.01;, score=0.656 total time=   0.2s\n",
      "[CV 1/5] END ................C=0.1, gamma=0.001;, score=0.675 total time=   0.1s\n",
      "[CV 2/5] END ................C=0.1, gamma=0.001;, score=0.683 total time=   0.1s\n",
      "[CV 3/5] END ................C=0.1, gamma=0.001;, score=0.683 total time=   0.1s\n",
      "[CV 4/5] END ................C=0.1, gamma=0.001;, score=0.634 total time=   0.1s\n",
      "[CV 5/5] END ................C=0.1, gamma=0.001;, score=0.680 total time=   0.1s\n",
      "[CV 1/5] END ...............C=0.1, gamma=0.0001;, score=0.772 total time=   0.1s\n",
      "[CV 2/5] END ...............C=0.1, gamma=0.0001;, score=0.724 total time=   0.1s\n",
      "[CV 3/5] END ...............C=0.1, gamma=0.0001;, score=0.732 total time=   0.1s\n",
      "[CV 4/5] END ...............C=0.1, gamma=0.0001;, score=0.724 total time=   0.1s\n",
      "[CV 5/5] END ...............C=0.1, gamma=0.0001;, score=0.795 total time=   0.2s\n",
      "[CV 1/5] END ......................C=1, gamma=1;, score=0.650 total time=   0.5s\n",
      "[CV 2/5] END ......................C=1, gamma=1;, score=0.650 total time=   0.5s\n",
      "[CV 3/5] END ......................C=1, gamma=1;, score=0.650 total time=   0.5s\n",
      "[CV 4/5] END ......................C=1, gamma=1;, score=0.650 total time=   0.5s\n",
      "[CV 5/5] END ......................C=1, gamma=1;, score=0.656 total time=   0.6s\n",
      "[CV 1/5] END ....................C=1, gamma=0.1;, score=0.650 total time=   0.4s\n",
      "[CV 2/5] END ....................C=1, gamma=0.1;, score=0.650 total time=   0.4s\n",
      "[CV 3/5] END ....................C=1, gamma=0.1;, score=0.650 total time=   0.4s\n",
      "[CV 4/5] END ....................C=1, gamma=0.1;, score=0.650 total time=   0.4s\n",
      "[CV 5/5] END ....................C=1, gamma=0.1;, score=0.656 total time=   0.4s\n",
      "[CV 1/5] END ...................C=1, gamma=0.01;, score=0.667 total time=   0.3s\n",
      "[CV 2/5] END ...................C=1, gamma=0.01;, score=0.683 total time=   0.2s\n",
      "[CV 3/5] END ...................C=1, gamma=0.01;, score=0.707 total time=   0.2s\n",
      "[CV 4/5] END ...................C=1, gamma=0.01;, score=0.659 total time=   0.2s\n",
      "[CV 5/5] END ...................C=1, gamma=0.01;, score=0.656 total time=   0.3s\n",
      "[CV 1/5] END ..................C=1, gamma=0.001;, score=0.732 total time=   0.1s\n",
      "[CV 2/5] END ..................C=1, gamma=0.001;, score=0.756 total time=   0.1s\n",
      "[CV 3/5] END ..................C=1, gamma=0.001;, score=0.732 total time=   0.1s\n",
      "[CV 4/5] END ..................C=1, gamma=0.001;, score=0.715 total time=   0.2s\n",
      "[CV 5/5] END ..................C=1, gamma=0.001;, score=0.762 total time=   0.2s\n",
      "[CV 1/5] END .................C=1, gamma=0.0001;, score=0.756 total time=   0.1s\n",
      "[CV 2/5] END .................C=1, gamma=0.0001;, score=0.789 total time=   0.1s\n",
      "[CV 3/5] END .................C=1, gamma=0.0001;, score=0.740 total time=   0.1s\n",
      "[CV 4/5] END .................C=1, gamma=0.0001;, score=0.748 total time=   0.1s\n",
      "[CV 5/5] END .................C=1, gamma=0.0001;, score=0.811 total time=   0.1s\n",
      "[CV 1/5] END .....................C=10, gamma=1;, score=0.650 total time=   0.9s\n",
      "[CV 2/5] END .....................C=10, gamma=1;, score=0.650 total time=   0.8s\n",
      "[CV 3/5] END .....................C=10, gamma=1;, score=0.650 total time=   0.8s\n",
      "[CV 4/5] END .....................C=10, gamma=1;, score=0.650 total time=   0.7s\n",
      "[CV 5/5] END .....................C=10, gamma=1;, score=0.656 total time=   0.8s\n",
      "[CV 1/5] END ...................C=10, gamma=0.1;, score=0.650 total time=   0.7s\n",
      "[CV 2/5] END ...................C=10, gamma=0.1;, score=0.650 total time=   0.6s\n",
      "[CV 3/5] END ...................C=10, gamma=0.1;, score=0.650 total time=   0.6s\n",
      "[CV 4/5] END ...................C=10, gamma=0.1;, score=0.650 total time=   0.7s\n",
      "[CV 5/5] END ...................C=10, gamma=0.1;, score=0.656 total time=   0.6s\n",
      "[CV 1/5] END ..................C=10, gamma=0.01;, score=0.659 total time=   0.3s\n",
      "[CV 2/5] END ..................C=10, gamma=0.01;, score=0.659 total time=   0.3s\n",
      "[CV 3/5] END ..................C=10, gamma=0.01;, score=0.659 total time=   0.3s\n",
      "[CV 4/5] END ..................C=10, gamma=0.01;, score=0.626 total time=   0.3s\n",
      "[CV 5/5] END ..................C=10, gamma=0.01;, score=0.680 total time=   0.3s\n",
      "[CV 1/5] END .................C=10, gamma=0.001;, score=0.748 total time=   0.3s\n",
      "[CV 2/5] END .................C=10, gamma=0.001;, score=0.740 total time=   0.3s\n",
      "[CV 3/5] END .................C=10, gamma=0.001;, score=0.691 total time=   0.3s\n",
      "[CV 4/5] END .................C=10, gamma=0.001;, score=0.691 total time=   0.4s\n",
      "[CV 5/5] END .................C=10, gamma=0.001;, score=0.738 total time=   0.3s\n",
      "[CV 1/5] END ................C=10, gamma=0.0001;, score=0.764 total time=   0.1s\n",
      "[CV 2/5] END ................C=10, gamma=0.0001;, score=0.772 total time=   0.1s\n",
      "[CV 3/5] END ................C=10, gamma=0.0001;, score=0.756 total time=   0.1s\n",
      "[CV 4/5] END ................C=10, gamma=0.0001;, score=0.740 total time=   0.1s\n",
      "[CV 5/5] END ................C=10, gamma=0.0001;, score=0.787 total time=   0.1s\n",
      "[CV 1/5] END ....................C=100, gamma=1;, score=0.650 total time=   0.8s\n",
      "[CV 2/5] END ....................C=100, gamma=1;, score=0.650 total time=   0.7s\n",
      "[CV 3/5] END ....................C=100, gamma=1;, score=0.650 total time=   0.7s\n",
      "[CV 4/5] END ....................C=100, gamma=1;, score=0.650 total time=   0.7s\n",
      "[CV 5/5] END ....................C=100, gamma=1;, score=0.656 total time=   0.7s\n",
      "[CV 1/5] END ..................C=100, gamma=0.1;, score=0.650 total time=   0.6s\n",
      "[CV 2/5] END ..................C=100, gamma=0.1;, score=0.650 total time=   0.6s\n",
      "[CV 3/5] END ..................C=100, gamma=0.1;, score=0.650 total time=   0.6s\n",
      "[CV 4/5] END ..................C=100, gamma=0.1;, score=0.650 total time=   0.7s\n",
      "[CV 5/5] END ..................C=100, gamma=0.1;, score=0.656 total time=   0.6s\n",
      "[CV 1/5] END .................C=100, gamma=0.01;, score=0.659 total time=   0.3s\n",
      "[CV 2/5] END .................C=100, gamma=0.01;, score=0.659 total time=   0.3s\n",
      "[CV 3/5] END .................C=100, gamma=0.01;, score=0.659 total time=   0.3s\n",
      "[CV 4/5] END .................C=100, gamma=0.01;, score=0.626 total time=   0.3s\n",
      "[CV 5/5] END .................C=100, gamma=0.01;, score=0.680 total time=   0.3s\n",
      "[CV 1/5] END ................C=100, gamma=0.001;, score=0.683 total time=   0.8s\n",
      "[CV 2/5] END ................C=100, gamma=0.001;, score=0.675 total time=   0.9s\n",
      "[CV 3/5] END ................C=100, gamma=0.001;, score=0.626 total time=   1.0s\n",
      "[CV 4/5] END ................C=100, gamma=0.001;, score=0.691 total time=   0.9s\n",
      "[CV 5/5] END ................C=100, gamma=0.001;, score=0.730 total time=   0.9s\n",
      "[CV 1/5] END ...............C=100, gamma=0.0001;, score=0.740 total time=   0.8s\n",
      "[CV 2/5] END ...............C=100, gamma=0.0001;, score=0.772 total time=   0.7s\n",
      "[CV 3/5] END ...............C=100, gamma=0.0001;, score=0.724 total time=   0.6s\n",
      "[CV 4/5] END ...............C=100, gamma=0.0001;, score=0.724 total time=   0.6s\n",
      "[CV 5/5] END ...............C=100, gamma=0.0001;, score=0.754 total time=   0.6s\n",
      "[CV 1/5] END ...................C=1000, gamma=1;, score=0.650 total time=   1.1s\n"
     ]
    },
    {
     "name": "stdout",
     "output_type": "stream",
     "text": [
      "[CV 2/5] END ...................C=1000, gamma=1;, score=0.650 total time=   0.8s\n",
      "[CV 3/5] END ...................C=1000, gamma=1;, score=0.650 total time=   0.8s\n",
      "[CV 4/5] END ...................C=1000, gamma=1;, score=0.650 total time=   0.8s\n",
      "[CV 5/5] END ...................C=1000, gamma=1;, score=0.656 total time=   0.7s\n",
      "[CV 1/5] END .................C=1000, gamma=0.1;, score=0.650 total time=   0.6s\n",
      "[CV 2/5] END .................C=1000, gamma=0.1;, score=0.650 total time=   0.7s\n",
      "[CV 3/5] END .................C=1000, gamma=0.1;, score=0.650 total time=   0.9s\n",
      "[CV 4/5] END .................C=1000, gamma=0.1;, score=0.650 total time=   0.8s\n",
      "[CV 5/5] END .................C=1000, gamma=0.1;, score=0.656 total time=   0.7s\n",
      "[CV 1/5] END ................C=1000, gamma=0.01;, score=0.659 total time=   0.4s\n",
      "[CV 2/5] END ................C=1000, gamma=0.01;, score=0.659 total time=   0.4s\n",
      "[CV 3/5] END ................C=1000, gamma=0.01;, score=0.659 total time=   0.3s\n",
      "[CV 4/5] END ................C=1000, gamma=0.01;, score=0.626 total time=   0.3s\n",
      "[CV 5/5] END ................C=1000, gamma=0.01;, score=0.680 total time=   0.3s\n",
      "[CV 1/5] END ...............C=1000, gamma=0.001;, score=0.683 total time=   1.3s\n",
      "[CV 2/5] END ...............C=1000, gamma=0.001;, score=0.699 total time=   1.4s\n",
      "[CV 3/5] END ...............C=1000, gamma=0.001;, score=0.642 total time=   1.0s\n",
      "[CV 4/5] END ...............C=1000, gamma=0.001;, score=0.667 total time=   1.2s\n",
      "[CV 5/5] END ...............C=1000, gamma=0.001;, score=0.672 total time=   1.3s\n",
      "[CV 1/5] END ..............C=1000, gamma=0.0001;, score=0.748 total time=   4.2s\n",
      "[CV 2/5] END ..............C=1000, gamma=0.0001;, score=0.748 total time=   4.1s\n",
      "[CV 3/5] END ..............C=1000, gamma=0.0001;, score=0.659 total time=   3.8s\n",
      "[CV 4/5] END ..............C=1000, gamma=0.0001;, score=0.732 total time=   4.9s\n",
      "[CV 5/5] END ..............C=1000, gamma=0.0001;, score=0.746 total time=   4.1s\n"
     ]
    },
    {
     "data": {
      "text/plain": [
       "GridSearchCV(estimator=SVC(cache_size=10000, class_weight={0: 1, 1: 1.1},\n",
       "                           probability=True),\n",
       "             param_grid={'C': [0.1, 1, 10, 100, 1000],\n",
       "                         'gamma': [1, 0.1, 0.01, 0.001, 0.0001]},\n",
       "             verbose=3)"
      ]
     },
     "execution_count": 5,
     "metadata": {},
     "output_type": "execute_result"
    }
   ],
   "source": [
    "param_grid = {\n",
    "    'C': [0.1, 1, 10, 100, 1000],\n",
    "    'gamma': [1, 0.1, 0.01, 0.001, 0.0001]\n",
    "}\n",
    "\n",
    "grid = GridSearchCV(SVC(probability=True, cache_size=10000, class_weight={1: 1.1, 0: 1}), param_grid, refit=True, verbose=3)\n",
    "grid.fit(X_train, Y_train)"
   ]
  },
  {
   "cell_type": "code",
   "execution_count": 6,
   "id": "9681bd1d",
   "metadata": {},
   "outputs": [
    {
     "name": "stdout",
     "output_type": "stream",
     "text": [
      "{'C': 1, 'gamma': 0.0001}\n",
      "SVC(C=1, cache_size=10000, class_weight={0: 1, 1: 1.1}, gamma=0.0001,\n",
      "    probability=True)\n"
     ]
    }
   ],
   "source": [
    "print(grid.best_params_)\n",
    "print(grid.best_estimator_)"
   ]
  },
  {
   "cell_type": "code",
   "execution_count": 7,
   "id": "d8d5899f",
   "metadata": {},
   "outputs": [
    {
     "name": "stdout",
     "output_type": "stream",
     "text": [
      "Accuracy score of the training data :  0.7833876221498371\n"
     ]
    }
   ],
   "source": [
    "# accuracy score on the training data\n",
    "X_train_prediction = grid.predict(X_train)\n",
    "training_data_accuracy = accuracy_score(X_train_prediction, Y_train)\n",
    "print('Accuracy score of the training data : ', training_data_accuracy)"
   ]
  },
  {
   "cell_type": "code",
   "execution_count": 8,
   "id": "433f1e5a",
   "metadata": {},
   "outputs": [
    {
     "name": "stdout",
     "output_type": "stream",
     "text": [
      "Accuracy score of the test data :  0.7402597402597403\n"
     ]
    }
   ],
   "source": [
    "# accuracy score on the test data\n",
    "X_test_prediction = grid.predict(X_test)\n",
    "test_data_accuracy = accuracy_score(X_test_prediction, Y_test)\n",
    "print('Accuracy score of the test data : ', test_data_accuracy)"
   ]
  },
  {
   "cell_type": "code",
   "execution_count": 9,
   "id": "ac905de6",
   "metadata": {},
   "outputs": [],
   "source": [
    "pickle.dump(grid, open('grid_model.sav', 'wb'))"
   ]
  },
  {
   "cell_type": "code",
   "execution_count": null,
   "id": "d34228e8",
   "metadata": {},
   "outputs": [],
   "source": []
  }
 ],
 "metadata": {
  "kernelspec": {
   "display_name": "Python 3 (ipykernel)",
   "language": "python",
   "name": "python3"
  },
  "language_info": {
   "codemirror_mode": {
    "name": "ipython",
    "version": 3
   },
   "file_extension": ".py",
   "mimetype": "text/x-python",
   "name": "python",
   "nbconvert_exporter": "python",
   "pygments_lexer": "ipython3",
   "version": "3.9.12"
  }
 },
 "nbformat": 4,
 "nbformat_minor": 5
}
