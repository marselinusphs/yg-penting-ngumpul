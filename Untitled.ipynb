{
 "cells": [
  {
   "cell_type": "code",
   "execution_count": 92,
   "id": "6391fae1",
   "metadata": {},
   "outputs": [],
   "source": [
    "import pandas as pd\n",
    "from sklearn.model_selection import train_test_split\n",
    "from sklearn.svm import SVC\n",
    "from sklearn.metrics import classification_report\n",
    "import pickle\n",
    "from sklearn.model_selection import GridSearchCV\n",
    "from sklearn.preprocessing import StandardScaler\n",
    "from sklearn.metrics import accuracy_score"
   ]
  },
  {
   "cell_type": "code",
   "execution_count": 101,
   "id": "4ae44b76",
   "metadata": {},
   "outputs": [],
   "source": [
    "# loading the diabetes dataset to a pandas DataFrame\n",
    "df = pd.read_csv('./diabetes.csv')\n",
    "X, Y = df.drop(columns='Outcome', axis=1), df['Outcome']"
   ]
  },
  {
   "cell_type": "code",
   "execution_count": 102,
   "id": "24f52200",
   "metadata": {},
   "outputs": [],
   "source": [
    "X_train, X_test, Y_train, Y_test = train_test_split(X, Y, test_size=0.2, stratify=Y, random_state=42)"
   ]
  },
  {
   "cell_type": "code",
   "execution_count": 135,
   "id": "e75dcb7b",
   "metadata": {
    "scrolled": true
   },
   "outputs": [
    {
     "name": "stdout",
     "output_type": "stream",
     "text": [
      "Fitting 5 folds for each of 30 candidates, totalling 150 fits\n",
      "[CV] END .....................................C=0.1, gamma=1; total time=   0.5s\n",
      "[CV] END .....................................C=0.1, gamma=1; total time=   0.4s\n",
      "[CV] END .....................................C=0.1, gamma=1; total time=   0.4s\n",
      "[CV] END .....................................C=0.1, gamma=1; total time=   0.5s\n",
      "[CV] END .....................................C=0.1, gamma=1; total time=   0.4s\n",
      "[CV] END ...................................C=0.1, gamma=0.1; total time=   0.4s\n",
      "[CV] END ...................................C=0.1, gamma=0.1; total time=   0.3s\n",
      "[CV] END ...................................C=0.1, gamma=0.1; total time=   0.4s\n",
      "[CV] END ...................................C=0.1, gamma=0.1; total time=   0.4s\n",
      "[CV] END ...................................C=0.1, gamma=0.1; total time=   0.3s\n",
      "[CV] END ..................................C=0.1, gamma=0.01; total time=   0.2s\n",
      "[CV] END ..................................C=0.1, gamma=0.01; total time=   0.2s\n",
      "[CV] END ..................................C=0.1, gamma=0.01; total time=   0.2s\n",
      "[CV] END ..................................C=0.1, gamma=0.01; total time=   0.2s\n",
      "[CV] END ..................................C=0.1, gamma=0.01; total time=   0.2s\n",
      "[CV] END .................................C=0.1, gamma=0.001; total time=   0.1s\n",
      "[CV] END .................................C=0.1, gamma=0.001; total time=   0.1s\n",
      "[CV] END .................................C=0.1, gamma=0.001; total time=   0.2s\n",
      "[CV] END .................................C=0.1, gamma=0.001; total time=   0.1s\n",
      "[CV] END .................................C=0.1, gamma=0.001; total time=   0.1s\n",
      "[CV] END ................................C=0.1, gamma=0.0001; total time=   0.2s\n",
      "[CV] END ................................C=0.1, gamma=0.0001; total time=   0.2s\n",
      "[CV] END ................................C=0.1, gamma=0.0001; total time=   0.1s\n",
      "[CV] END ................................C=0.1, gamma=0.0001; total time=   0.2s\n",
      "[CV] END ................................C=0.1, gamma=0.0001; total time=   0.1s\n",
      "[CV] END .................................C=0.1, gamma=scale; total time=   0.2s\n",
      "[CV] END .................................C=0.1, gamma=scale; total time=   0.0s\n",
      "[CV] END .................................C=0.1, gamma=scale; total time=   0.0s\n",
      "[CV] END .................................C=0.1, gamma=scale; total time=   0.1s\n",
      "[CV] END .................................C=0.1, gamma=scale; total time=   0.1s\n",
      "[CV] END .......................................C=1, gamma=1; total time=   1.7s\n",
      "[CV] END .......................................C=1, gamma=1; total time=   1.3s\n",
      "[CV] END .......................................C=1, gamma=1; total time=   1.1s\n",
      "[CV] END .......................................C=1, gamma=1; total time=   1.0s\n",
      "[CV] END .......................................C=1, gamma=1; total time=   1.2s\n",
      "[CV] END .....................................C=1, gamma=0.1; total time=   0.8s\n",
      "[CV] END .....................................C=1, gamma=0.1; total time=   0.7s\n",
      "[CV] END .....................................C=1, gamma=0.1; total time=   0.5s\n",
      "[CV] END .....................................C=1, gamma=0.1; total time=   0.4s\n",
      "[CV] END .....................................C=1, gamma=0.1; total time=   0.4s\n",
      "[CV] END ....................................C=1, gamma=0.01; total time=   0.2s\n",
      "[CV] END ....................................C=1, gamma=0.01; total time=   0.2s\n",
      "[CV] END ....................................C=1, gamma=0.01; total time=   0.2s\n",
      "[CV] END ....................................C=1, gamma=0.01; total time=   0.2s\n",
      "[CV] END ....................................C=1, gamma=0.01; total time=   0.3s\n",
      "[CV] END ...................................C=1, gamma=0.001; total time=   0.2s\n",
      "[CV] END ...................................C=1, gamma=0.001; total time=   0.1s\n",
      "[CV] END ...................................C=1, gamma=0.001; total time=   0.1s\n",
      "[CV] END ...................................C=1, gamma=0.001; total time=   0.1s\n",
      "[CV] END ...................................C=1, gamma=0.001; total time=   0.1s\n",
      "[CV] END ..................................C=1, gamma=0.0001; total time=   0.1s\n",
      "[CV] END ..................................C=1, gamma=0.0001; total time=   0.1s\n",
      "[CV] END ..................................C=1, gamma=0.0001; total time=   0.1s\n",
      "[CV] END ..................................C=1, gamma=0.0001; total time=   0.1s\n",
      "[CV] END ..................................C=1, gamma=0.0001; total time=   0.1s\n",
      "[CV] END ...................................C=1, gamma=scale; total time=   0.1s\n",
      "[CV] END ...................................C=1, gamma=scale; total time=   0.0s\n",
      "[CV] END ...................................C=1, gamma=scale; total time=   0.0s\n",
      "[CV] END ...................................C=1, gamma=scale; total time=   0.1s\n",
      "[CV] END ...................................C=1, gamma=scale; total time=   0.1s\n",
      "[CV] END ......................................C=10, gamma=1; total time=   0.8s\n",
      "[CV] END ......................................C=10, gamma=1; total time=   0.8s\n",
      "[CV] END ......................................C=10, gamma=1; total time=   0.9s\n",
      "[CV] END ......................................C=10, gamma=1; total time=   0.7s\n",
      "[CV] END ......................................C=10, gamma=1; total time=   0.9s\n",
      "[CV] END ....................................C=10, gamma=0.1; total time=   0.7s\n",
      "[CV] END ....................................C=10, gamma=0.1; total time=   0.7s\n",
      "[CV] END ....................................C=10, gamma=0.1; total time=   1.7s\n",
      "[CV] END ....................................C=10, gamma=0.1; total time=   1.3s\n",
      "[CV] END ....................................C=10, gamma=0.1; total time=   0.9s\n",
      "[CV] END ...................................C=10, gamma=0.01; total time=   0.4s\n",
      "[CV] END ...................................C=10, gamma=0.01; total time=   0.3s\n",
      "[CV] END ...................................C=10, gamma=0.01; total time=   0.3s\n",
      "[CV] END ...................................C=10, gamma=0.01; total time=   0.4s\n",
      "[CV] END ...................................C=10, gamma=0.01; total time=   0.3s\n",
      "[CV] END ..................................C=10, gamma=0.001; total time=   0.3s\n",
      "[CV] END ..................................C=10, gamma=0.001; total time=   0.3s\n",
      "[CV] END ..................................C=10, gamma=0.001; total time=   0.3s\n",
      "[CV] END ..................................C=10, gamma=0.001; total time=   0.5s\n",
      "[CV] END ..................................C=10, gamma=0.001; total time=   0.4s\n",
      "[CV] END .................................C=10, gamma=0.0001; total time=   0.2s\n",
      "[CV] END .................................C=10, gamma=0.0001; total time=   0.2s\n",
      "[CV] END .................................C=10, gamma=0.0001; total time=   0.2s\n",
      "[CV] END .................................C=10, gamma=0.0001; total time=   0.2s\n",
      "[CV] END .................................C=10, gamma=0.0001; total time=   0.1s\n",
      "[CV] END ..................................C=10, gamma=scale; total time=   0.1s\n",
      "[CV] END ..................................C=10, gamma=scale; total time=   0.1s\n",
      "[CV] END ..................................C=10, gamma=scale; total time=   0.1s\n",
      "[CV] END ..................................C=10, gamma=scale; total time=   0.2s\n",
      "[CV] END ..................................C=10, gamma=scale; total time=   0.3s\n",
      "[CV] END .....................................C=100, gamma=1; total time=   0.9s\n",
      "[CV] END .....................................C=100, gamma=1; total time=   0.8s\n",
      "[CV] END .....................................C=100, gamma=1; total time=   1.1s\n",
      "[CV] END .....................................C=100, gamma=1; total time=   0.8s\n",
      "[CV] END .....................................C=100, gamma=1; total time=   0.8s\n",
      "[CV] END ...................................C=100, gamma=0.1; total time=   0.6s\n",
      "[CV] END ...................................C=100, gamma=0.1; total time=   0.7s\n",
      "[CV] END ...................................C=100, gamma=0.1; total time=   0.8s\n",
      "[CV] END ...................................C=100, gamma=0.1; total time=   0.6s\n",
      "[CV] END ...................................C=100, gamma=0.1; total time=   0.6s\n",
      "[CV] END ..................................C=100, gamma=0.01; total time=   0.3s\n"
     ]
    },
    {
     "name": "stdout",
     "output_type": "stream",
     "text": [
      "[CV] END ..................................C=100, gamma=0.01; total time=   0.3s\n",
      "[CV] END ..................................C=100, gamma=0.01; total time=   0.3s\n",
      "[CV] END ..................................C=100, gamma=0.01; total time=   0.3s\n",
      "[CV] END ..................................C=100, gamma=0.01; total time=   0.3s\n",
      "[CV] END .................................C=100, gamma=0.001; total time=   0.7s\n",
      "[CV] END .................................C=100, gamma=0.001; total time=   0.9s\n",
      "[CV] END .................................C=100, gamma=0.001; total time=   0.7s\n",
      "[CV] END .................................C=100, gamma=0.001; total time=   0.8s\n",
      "[CV] END .................................C=100, gamma=0.001; total time=   1.2s\n",
      "[CV] END ................................C=100, gamma=0.0001; total time=   0.6s\n",
      "[CV] END ................................C=100, gamma=0.0001; total time=   0.7s\n",
      "[CV] END ................................C=100, gamma=0.0001; total time=   0.6s\n",
      "[CV] END ................................C=100, gamma=0.0001; total time=   0.7s\n",
      "[CV] END ................................C=100, gamma=0.0001; total time=   0.9s\n",
      "[CV] END .................................C=100, gamma=scale; total time=   0.5s\n",
      "[CV] END .................................C=100, gamma=scale; total time=   0.4s\n",
      "[CV] END .................................C=100, gamma=scale; total time=   0.3s\n",
      "[CV] END .................................C=100, gamma=scale; total time=   0.4s\n",
      "[CV] END .................................C=100, gamma=scale; total time=   0.4s\n",
      "[CV] END ....................................C=1000, gamma=1; total time=   1.2s\n",
      "[CV] END ....................................C=1000, gamma=1; total time=   1.1s\n",
      "[CV] END ....................................C=1000, gamma=1; total time=   1.2s\n",
      "[CV] END ....................................C=1000, gamma=1; total time=   1.2s\n",
      "[CV] END ....................................C=1000, gamma=1; total time=   0.8s\n",
      "[CV] END ..................................C=1000, gamma=0.1; total time=   0.7s\n",
      "[CV] END ..................................C=1000, gamma=0.1; total time=   0.7s\n",
      "[CV] END ..................................C=1000, gamma=0.1; total time=   0.8s\n",
      "[CV] END ..................................C=1000, gamma=0.1; total time=   0.7s\n",
      "[CV] END ..................................C=1000, gamma=0.1; total time=   1.0s\n",
      "[CV] END .................................C=1000, gamma=0.01; total time=   0.3s\n",
      "[CV] END .................................C=1000, gamma=0.01; total time=   0.3s\n",
      "[CV] END .................................C=1000, gamma=0.01; total time=   0.4s\n",
      "[CV] END .................................C=1000, gamma=0.01; total time=   0.4s\n",
      "[CV] END .................................C=1000, gamma=0.01; total time=   0.4s\n",
      "[CV] END ................................C=1000, gamma=0.001; total time=   1.4s\n",
      "[CV] END ................................C=1000, gamma=0.001; total time=   1.4s\n",
      "[CV] END ................................C=1000, gamma=0.001; total time=   1.4s\n",
      "[CV] END ................................C=1000, gamma=0.001; total time=   2.5s\n",
      "[CV] END ................................C=1000, gamma=0.001; total time=   1.8s\n",
      "[CV] END ...............................C=1000, gamma=0.0001; total time=   4.3s\n",
      "[CV] END ...............................C=1000, gamma=0.0001; total time=   5.0s\n",
      "[CV] END ...............................C=1000, gamma=0.0001; total time=   4.3s\n",
      "[CV] END ...............................C=1000, gamma=0.0001; total time=   5.1s\n",
      "[CV] END ...............................C=1000, gamma=0.0001; total time=   5.3s\n",
      "[CV] END ................................C=1000, gamma=scale; total time=   3.2s\n",
      "[CV] END ................................C=1000, gamma=scale; total time=   3.7s\n",
      "[CV] END ................................C=1000, gamma=scale; total time=   3.4s\n",
      "[CV] END ................................C=1000, gamma=scale; total time=   3.4s\n",
      "[CV] END ................................C=1000, gamma=scale; total time=   3.0s\n"
     ]
    },
    {
     "data": {
      "text/plain": [
       "GridSearchCV(estimator=SVC(cache_size=10000, class_weight={0: 1, 1: 1.1},\n",
       "                           probability=True),\n",
       "             param_grid={'C': [0.1, 1, 10, 100, 1000],\n",
       "                         'gamma': [1, 0.1, 0.01, 0.001, 0.0001, 'scale']},\n",
       "             verbose=2)"
      ]
     },
     "execution_count": 135,
     "metadata": {},
     "output_type": "execute_result"
    }
   ],
   "source": [
    "param_grid = {\n",
    "    'C': [0.1, 1, 10, 100, 1000],\n",
    "    'gamma': [1, 0.1, 0.01, 0.001, 0.0001, 'scale']\n",
    "}\n",
    "\n",
    "grid = GridSearchCV(SVC(probability=True, cache_size=10000, class_weight={1: 1.1, 0: 1}), param_grid, refit=True, verbose=2)\n",
    "grid.fit(X_train, Y_train)"
   ]
  },
  {
   "cell_type": "code",
   "execution_count": 136,
   "id": "9681bd1d",
   "metadata": {},
   "outputs": [
    {
     "name": "stdout",
     "output_type": "stream",
     "text": [
      "{'C': 1, 'gamma': 0.0001}\n",
      "SVC(C=1, cache_size=10000, class_weight={0: 1, 1: 1.1}, gamma=0.0001,\n",
      "    probability=True)\n"
     ]
    }
   ],
   "source": [
    "print(grid.best_params_)\n",
    "print(grid.best_estimator_)"
   ]
  },
  {
   "cell_type": "code",
   "execution_count": 137,
   "id": "d8d5899f",
   "metadata": {},
   "outputs": [
    {
     "name": "stdout",
     "output_type": "stream",
     "text": [
      "Accuracy score of the training data :  0.7833876221498371\n"
     ]
    }
   ],
   "source": [
    "# accuracy score on the training data\n",
    "X_train_prediction = grid.predict(X_train)\n",
    "training_data_accuracy = accuracy_score(X_train_prediction, Y_train)\n",
    "print('Accuracy score of the training data : ', training_data_accuracy)"
   ]
  },
  {
   "cell_type": "code",
   "execution_count": 138,
   "id": "433f1e5a",
   "metadata": {},
   "outputs": [
    {
     "name": "stdout",
     "output_type": "stream",
     "text": [
      "Accuracy score of the test data :  0.7402597402597403\n"
     ]
    }
   ],
   "source": [
    "# accuracy score on the test data\n",
    "X_test_prediction = grid.predict(X_test)\n",
    "test_data_accuracy = accuracy_score(X_test_prediction, Y_test)\n",
    "print('Accuracy score of the test data : ', test_data_accuracy)"
   ]
  },
  {
   "cell_type": "code",
   "execution_count": 139,
   "id": "ac905de6",
   "metadata": {},
   "outputs": [],
   "source": [
    "pickle.dump(grid, open('grid_model.sav', 'wb'))"
   ]
  },
  {
   "cell_type": "code",
   "execution_count": null,
   "id": "04500a29",
   "metadata": {},
   "outputs": [],
   "source": []
  }
 ],
 "metadata": {
  "kernelspec": {
   "display_name": "Python 3 (ipykernel)",
   "language": "python",
   "name": "python3"
  },
  "language_info": {
   "codemirror_mode": {
    "name": "ipython",
    "version": 3
   },
   "file_extension": ".py",
   "mimetype": "text/x-python",
   "name": "python",
   "nbconvert_exporter": "python",
   "pygments_lexer": "ipython3",
   "version": "3.9.12"
  }
 },
 "nbformat": 4,
 "nbformat_minor": 5
}
