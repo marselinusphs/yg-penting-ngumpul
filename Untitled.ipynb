{
 "cells": [
  {
   "cell_type": "markdown",
   "id": "a7c17e3a",
   "metadata": {},
   "source": [
    "# Prediksi Diabetes Menggunakan Support Vector Machine\n",
    "### Final Project SHP Kecerdasan Buatan - Kelompok 1\n",
    "\n",
    "---"
   ]
  },
  {
   "cell_type": "markdown",
   "id": "3532f910",
   "metadata": {},
   "source": [
    "## Pendahuluan\n",
    "Diabetes adalah penyakit kronis yang ditandai dengan tingginya kadar gula darah dalam tubuh.  \n",
    "\n",
    "Diagnosis dini dan pengelolaan yang tepat sangat penting untuk mencegah komplikasi yang serius.  \n",
    "\n",
    "Oleh karena itu, pengembangan sistem deteksi diabetes yang akurat dapat membantu tenaga medis dalam proses diagnosis dan intervensi yang tepat. \n",
    "\n",
    "Tujuan proyek ini adalah untuk membangun model yang dapat mempelajari pola dan hubungan antara fitur-fitur, sehingga mampu memprediksi apakah seseorang berisiko mengembangkan diabetes atau tidak.  \n",
    "\n",
    "Model yang telah dilatih ini kemudian dapat digunakan untuk melakukan prediksi pada data baru dan memberikan informasi penting kepada individu atau tenaga medis."
   ]
  },
  {
   "cell_type": "code",
   "execution_count": 15,
   "id": "6391fae1",
   "metadata": {},
   "outputs": [],
   "source": [
    "from sklearn.model_selection import train_test_split\n",
    "from sklearn.svm import SVC\n",
    "from sklearn.metrics import classification_report\n",
    "from sklearn.model_selection import GridSearchCV\n",
    "from sklearn.preprocessing import StandardScaler\n",
    "from sklearn.metrics import accuracy_score\n",
    "import matplotlib.pyplot as plt\n",
    "import seaborn as sns\n",
    "import pandas as pd\n",
    "import pickle"
   ]
  },
  {
   "cell_type": "markdown",
   "id": "56837b3c",
   "metadata": {},
   "source": [
    "## Dataset"
   ]
  },
  {
   "cell_type": "code",
   "execution_count": 16,
   "id": "4ae44b76",
   "metadata": {},
   "outputs": [
    {
     "data": {
      "text/html": [
       "<div>\n",
       "<style scoped>\n",
       "    .dataframe tbody tr th:only-of-type {\n",
       "        vertical-align: middle;\n",
       "    }\n",
       "\n",
       "    .dataframe tbody tr th {\n",
       "        vertical-align: top;\n",
       "    }\n",
       "\n",
       "    .dataframe thead th {\n",
       "        text-align: right;\n",
       "    }\n",
       "</style>\n",
       "<table border=\"1\" class=\"dataframe\">\n",
       "  <thead>\n",
       "    <tr style=\"text-align: right;\">\n",
       "      <th></th>\n",
       "      <th>Pregnancies</th>\n",
       "      <th>Glucose</th>\n",
       "      <th>BloodPressure</th>\n",
       "      <th>SkinThickness</th>\n",
       "      <th>Insulin</th>\n",
       "      <th>BMI</th>\n",
       "      <th>DiabetesPedigreeFunction</th>\n",
       "      <th>Age</th>\n",
       "      <th>Outcome</th>\n",
       "    </tr>\n",
       "  </thead>\n",
       "  <tbody>\n",
       "    <tr>\n",
       "      <th>0</th>\n",
       "      <td>6</td>\n",
       "      <td>148</td>\n",
       "      <td>72</td>\n",
       "      <td>35</td>\n",
       "      <td>0</td>\n",
       "      <td>33.6</td>\n",
       "      <td>0.627</td>\n",
       "      <td>50</td>\n",
       "      <td>1</td>\n",
       "    </tr>\n",
       "    <tr>\n",
       "      <th>1</th>\n",
       "      <td>1</td>\n",
       "      <td>85</td>\n",
       "      <td>66</td>\n",
       "      <td>29</td>\n",
       "      <td>0</td>\n",
       "      <td>26.6</td>\n",
       "      <td>0.351</td>\n",
       "      <td>31</td>\n",
       "      <td>0</td>\n",
       "    </tr>\n",
       "    <tr>\n",
       "      <th>2</th>\n",
       "      <td>8</td>\n",
       "      <td>183</td>\n",
       "      <td>64</td>\n",
       "      <td>0</td>\n",
       "      <td>0</td>\n",
       "      <td>23.3</td>\n",
       "      <td>0.672</td>\n",
       "      <td>32</td>\n",
       "      <td>1</td>\n",
       "    </tr>\n",
       "    <tr>\n",
       "      <th>3</th>\n",
       "      <td>1</td>\n",
       "      <td>89</td>\n",
       "      <td>66</td>\n",
       "      <td>23</td>\n",
       "      <td>94</td>\n",
       "      <td>28.1</td>\n",
       "      <td>0.167</td>\n",
       "      <td>21</td>\n",
       "      <td>0</td>\n",
       "    </tr>\n",
       "    <tr>\n",
       "      <th>4</th>\n",
       "      <td>0</td>\n",
       "      <td>137</td>\n",
       "      <td>40</td>\n",
       "      <td>35</td>\n",
       "      <td>168</td>\n",
       "      <td>43.1</td>\n",
       "      <td>2.288</td>\n",
       "      <td>33</td>\n",
       "      <td>1</td>\n",
       "    </tr>\n",
       "  </tbody>\n",
       "</table>\n",
       "</div>"
      ],
      "text/plain": [
       "   Pregnancies  Glucose  BloodPressure  SkinThickness  Insulin   BMI  \\\n",
       "0            6      148             72             35        0  33.6   \n",
       "1            1       85             66             29        0  26.6   \n",
       "2            8      183             64              0        0  23.3   \n",
       "3            1       89             66             23       94  28.1   \n",
       "4            0      137             40             35      168  43.1   \n",
       "\n",
       "   DiabetesPedigreeFunction  Age  Outcome  \n",
       "0                     0.627   50        1  \n",
       "1                     0.351   31        0  \n",
       "2                     0.672   32        1  \n",
       "3                     0.167   21        0  \n",
       "4                     2.288   33        1  "
      ]
     },
     "execution_count": 16,
     "metadata": {},
     "output_type": "execute_result"
    }
   ],
   "source": [
    "# loading the diabetes dataset to a pandas DataFrame\n",
    "df = pd.read_csv('./diabetes.csv')\n",
    "df.head()"
   ]
  },
  {
   "cell_type": "code",
   "execution_count": 17,
   "id": "fddcd3f0",
   "metadata": {},
   "outputs": [
    {
     "name": "stdout",
     "output_type": "stream",
     "text": [
      "number of duplicate rows:  (0, 9)\n"
     ]
    }
   ],
   "source": [
    "# Handle duplicates\n",
    "duplicate_rows_data = df[df.duplicated()]\n",
    "print(\"number of duplicate rows: \", duplicate_rows_data.shape)"
   ]
  },
  {
   "cell_type": "code",
   "execution_count": 18,
   "id": "f6597dc6",
   "metadata": {},
   "outputs": [
    {
     "data": {
      "text/html": [
       "<div>\n",
       "<style scoped>\n",
       "    .dataframe tbody tr th:only-of-type {\n",
       "        vertical-align: middle;\n",
       "    }\n",
       "\n",
       "    .dataframe tbody tr th {\n",
       "        vertical-align: top;\n",
       "    }\n",
       "\n",
       "    .dataframe thead th {\n",
       "        text-align: right;\n",
       "    }\n",
       "</style>\n",
       "<table border=\"1\" class=\"dataframe\">\n",
       "  <thead>\n",
       "    <tr style=\"text-align: right;\">\n",
       "      <th></th>\n",
       "      <th>Pregnancies</th>\n",
       "      <th>Glucose</th>\n",
       "      <th>BloodPressure</th>\n",
       "      <th>SkinThickness</th>\n",
       "      <th>Insulin</th>\n",
       "      <th>BMI</th>\n",
       "      <th>DiabetesPedigreeFunction</th>\n",
       "      <th>Age</th>\n",
       "      <th>Outcome</th>\n",
       "    </tr>\n",
       "  </thead>\n",
       "  <tbody>\n",
       "    <tr>\n",
       "      <th>0</th>\n",
       "      <td>6</td>\n",
       "      <td>148</td>\n",
       "      <td>72</td>\n",
       "      <td>35</td>\n",
       "      <td>0</td>\n",
       "      <td>33.6</td>\n",
       "      <td>0.627</td>\n",
       "      <td>50</td>\n",
       "      <td>1</td>\n",
       "    </tr>\n",
       "    <tr>\n",
       "      <th>1</th>\n",
       "      <td>1</td>\n",
       "      <td>85</td>\n",
       "      <td>66</td>\n",
       "      <td>29</td>\n",
       "      <td>0</td>\n",
       "      <td>26.6</td>\n",
       "      <td>0.351</td>\n",
       "      <td>31</td>\n",
       "      <td>0</td>\n",
       "    </tr>\n",
       "    <tr>\n",
       "      <th>2</th>\n",
       "      <td>8</td>\n",
       "      <td>183</td>\n",
       "      <td>64</td>\n",
       "      <td>0</td>\n",
       "      <td>0</td>\n",
       "      <td>23.3</td>\n",
       "      <td>0.672</td>\n",
       "      <td>32</td>\n",
       "      <td>1</td>\n",
       "    </tr>\n",
       "    <tr>\n",
       "      <th>3</th>\n",
       "      <td>1</td>\n",
       "      <td>89</td>\n",
       "      <td>66</td>\n",
       "      <td>23</td>\n",
       "      <td>94</td>\n",
       "      <td>28.1</td>\n",
       "      <td>0.167</td>\n",
       "      <td>21</td>\n",
       "      <td>0</td>\n",
       "    </tr>\n",
       "    <tr>\n",
       "      <th>4</th>\n",
       "      <td>0</td>\n",
       "      <td>137</td>\n",
       "      <td>40</td>\n",
       "      <td>35</td>\n",
       "      <td>168</td>\n",
       "      <td>43.1</td>\n",
       "      <td>2.288</td>\n",
       "      <td>33</td>\n",
       "      <td>1</td>\n",
       "    </tr>\n",
       "    <tr>\n",
       "      <th>...</th>\n",
       "      <td>...</td>\n",
       "      <td>...</td>\n",
       "      <td>...</td>\n",
       "      <td>...</td>\n",
       "      <td>...</td>\n",
       "      <td>...</td>\n",
       "      <td>...</td>\n",
       "      <td>...</td>\n",
       "      <td>...</td>\n",
       "    </tr>\n",
       "    <tr>\n",
       "      <th>763</th>\n",
       "      <td>10</td>\n",
       "      <td>101</td>\n",
       "      <td>76</td>\n",
       "      <td>48</td>\n",
       "      <td>180</td>\n",
       "      <td>32.9</td>\n",
       "      <td>0.171</td>\n",
       "      <td>63</td>\n",
       "      <td>0</td>\n",
       "    </tr>\n",
       "    <tr>\n",
       "      <th>764</th>\n",
       "      <td>2</td>\n",
       "      <td>122</td>\n",
       "      <td>70</td>\n",
       "      <td>27</td>\n",
       "      <td>0</td>\n",
       "      <td>36.8</td>\n",
       "      <td>0.340</td>\n",
       "      <td>27</td>\n",
       "      <td>0</td>\n",
       "    </tr>\n",
       "    <tr>\n",
       "      <th>765</th>\n",
       "      <td>5</td>\n",
       "      <td>121</td>\n",
       "      <td>72</td>\n",
       "      <td>23</td>\n",
       "      <td>112</td>\n",
       "      <td>26.2</td>\n",
       "      <td>0.245</td>\n",
       "      <td>30</td>\n",
       "      <td>0</td>\n",
       "    </tr>\n",
       "    <tr>\n",
       "      <th>766</th>\n",
       "      <td>1</td>\n",
       "      <td>126</td>\n",
       "      <td>60</td>\n",
       "      <td>0</td>\n",
       "      <td>0</td>\n",
       "      <td>30.1</td>\n",
       "      <td>0.349</td>\n",
       "      <td>47</td>\n",
       "      <td>1</td>\n",
       "    </tr>\n",
       "    <tr>\n",
       "      <th>767</th>\n",
       "      <td>1</td>\n",
       "      <td>93</td>\n",
       "      <td>70</td>\n",
       "      <td>31</td>\n",
       "      <td>0</td>\n",
       "      <td>30.4</td>\n",
       "      <td>0.315</td>\n",
       "      <td>23</td>\n",
       "      <td>0</td>\n",
       "    </tr>\n",
       "  </tbody>\n",
       "</table>\n",
       "<p>768 rows × 9 columns</p>\n",
       "</div>"
      ],
      "text/plain": [
       "     Pregnancies  Glucose  BloodPressure  SkinThickness  Insulin   BMI  \\\n",
       "0              6      148             72             35        0  33.6   \n",
       "1              1       85             66             29        0  26.6   \n",
       "2              8      183             64              0        0  23.3   \n",
       "3              1       89             66             23       94  28.1   \n",
       "4              0      137             40             35      168  43.1   \n",
       "..           ...      ...            ...            ...      ...   ...   \n",
       "763           10      101             76             48      180  32.9   \n",
       "764            2      122             70             27        0  36.8   \n",
       "765            5      121             72             23      112  26.2   \n",
       "766            1      126             60              0        0  30.1   \n",
       "767            1       93             70             31        0  30.4   \n",
       "\n",
       "     DiabetesPedigreeFunction  Age  Outcome  \n",
       "0                       0.627   50        1  \n",
       "1                       0.351   31        0  \n",
       "2                       0.672   32        1  \n",
       "3                       0.167   21        0  \n",
       "4                       2.288   33        1  \n",
       "..                        ...  ...      ...  \n",
       "763                     0.171   63        0  \n",
       "764                     0.340   27        0  \n",
       "765                     0.245   30        0  \n",
       "766                     0.349   47        1  \n",
       "767                     0.315   23        0  \n",
       "\n",
       "[768 rows x 9 columns]"
      ]
     },
     "execution_count": 18,
     "metadata": {},
     "output_type": "execute_result"
    }
   ],
   "source": [
    "df = df.drop_duplicates()\n",
    "df"
   ]
  },
  {
   "cell_type": "code",
   "execution_count": 19,
   "id": "eb293a28",
   "metadata": {},
   "outputs": [
    {
     "name": "stdout",
     "output_type": "stream",
     "text": [
      "Pregnancies                 0\n",
      "Glucose                     0\n",
      "BloodPressure               0\n",
      "SkinThickness               0\n",
      "Insulin                     0\n",
      "BMI                         0\n",
      "DiabetesPedigreeFunction    0\n",
      "Age                         0\n",
      "Outcome                     0\n",
      "dtype: int64\n"
     ]
    }
   ],
   "source": [
    "# Checking null values\n",
    "print(df.isnull().sum())"
   ]
  },
  {
   "cell_type": "code",
   "execution_count": 20,
   "id": "f8a02466",
   "metadata": {},
   "outputs": [
    {
     "data": {
      "text/html": [
       "<style type=\"text/css\">\n",
       "</style>\n",
       "<table id=\"T_211d9\">\n",
       "  <thead>\n",
       "    <tr>\n",
       "      <th class=\"blank level0\" >&nbsp;</th>\n",
       "      <th id=\"T_211d9_level0_col0\" class=\"col_heading level0 col0\" >Pregnancies</th>\n",
       "      <th id=\"T_211d9_level0_col1\" class=\"col_heading level0 col1\" >Glucose</th>\n",
       "      <th id=\"T_211d9_level0_col2\" class=\"col_heading level0 col2\" >BloodPressure</th>\n",
       "      <th id=\"T_211d9_level0_col3\" class=\"col_heading level0 col3\" >SkinThickness</th>\n",
       "      <th id=\"T_211d9_level0_col4\" class=\"col_heading level0 col4\" >Insulin</th>\n",
       "      <th id=\"T_211d9_level0_col5\" class=\"col_heading level0 col5\" >BMI</th>\n",
       "      <th id=\"T_211d9_level0_col6\" class=\"col_heading level0 col6\" >DiabetesPedigreeFunction</th>\n",
       "      <th id=\"T_211d9_level0_col7\" class=\"col_heading level0 col7\" >Age</th>\n",
       "      <th id=\"T_211d9_level0_col8\" class=\"col_heading level0 col8\" >Outcome</th>\n",
       "    </tr>\n",
       "  </thead>\n",
       "  <tbody>\n",
       "    <tr>\n",
       "      <th id=\"T_211d9_level0_row0\" class=\"row_heading level0 row0\" >count</th>\n",
       "      <td id=\"T_211d9_row0_col0\" class=\"data row0 col0\" >768.00</td>\n",
       "      <td id=\"T_211d9_row0_col1\" class=\"data row0 col1\" >768.00</td>\n",
       "      <td id=\"T_211d9_row0_col2\" class=\"data row0 col2\" >768.00</td>\n",
       "      <td id=\"T_211d9_row0_col3\" class=\"data row0 col3\" >768.00</td>\n",
       "      <td id=\"T_211d9_row0_col4\" class=\"data row0 col4\" >768.00</td>\n",
       "      <td id=\"T_211d9_row0_col5\" class=\"data row0 col5\" >768.00</td>\n",
       "      <td id=\"T_211d9_row0_col6\" class=\"data row0 col6\" >768.00</td>\n",
       "      <td id=\"T_211d9_row0_col7\" class=\"data row0 col7\" >768.00</td>\n",
       "      <td id=\"T_211d9_row0_col8\" class=\"data row0 col8\" >768.00</td>\n",
       "    </tr>\n",
       "    <tr>\n",
       "      <th id=\"T_211d9_level0_row1\" class=\"row_heading level0 row1\" >mean</th>\n",
       "      <td id=\"T_211d9_row1_col0\" class=\"data row1 col0\" >3.85</td>\n",
       "      <td id=\"T_211d9_row1_col1\" class=\"data row1 col1\" >120.89</td>\n",
       "      <td id=\"T_211d9_row1_col2\" class=\"data row1 col2\" >69.11</td>\n",
       "      <td id=\"T_211d9_row1_col3\" class=\"data row1 col3\" >20.54</td>\n",
       "      <td id=\"T_211d9_row1_col4\" class=\"data row1 col4\" >79.80</td>\n",
       "      <td id=\"T_211d9_row1_col5\" class=\"data row1 col5\" >31.99</td>\n",
       "      <td id=\"T_211d9_row1_col6\" class=\"data row1 col6\" >0.47</td>\n",
       "      <td id=\"T_211d9_row1_col7\" class=\"data row1 col7\" >33.24</td>\n",
       "      <td id=\"T_211d9_row1_col8\" class=\"data row1 col8\" >0.35</td>\n",
       "    </tr>\n",
       "    <tr>\n",
       "      <th id=\"T_211d9_level0_row2\" class=\"row_heading level0 row2\" >std</th>\n",
       "      <td id=\"T_211d9_row2_col0\" class=\"data row2 col0\" >3.37</td>\n",
       "      <td id=\"T_211d9_row2_col1\" class=\"data row2 col1\" >31.97</td>\n",
       "      <td id=\"T_211d9_row2_col2\" class=\"data row2 col2\" >19.36</td>\n",
       "      <td id=\"T_211d9_row2_col3\" class=\"data row2 col3\" >15.95</td>\n",
       "      <td id=\"T_211d9_row2_col4\" class=\"data row2 col4\" >115.24</td>\n",
       "      <td id=\"T_211d9_row2_col5\" class=\"data row2 col5\" >7.88</td>\n",
       "      <td id=\"T_211d9_row2_col6\" class=\"data row2 col6\" >0.33</td>\n",
       "      <td id=\"T_211d9_row2_col7\" class=\"data row2 col7\" >11.76</td>\n",
       "      <td id=\"T_211d9_row2_col8\" class=\"data row2 col8\" >0.48</td>\n",
       "    </tr>\n",
       "    <tr>\n",
       "      <th id=\"T_211d9_level0_row3\" class=\"row_heading level0 row3\" >min</th>\n",
       "      <td id=\"T_211d9_row3_col0\" class=\"data row3 col0\" >0.00</td>\n",
       "      <td id=\"T_211d9_row3_col1\" class=\"data row3 col1\" >0.00</td>\n",
       "      <td id=\"T_211d9_row3_col2\" class=\"data row3 col2\" >0.00</td>\n",
       "      <td id=\"T_211d9_row3_col3\" class=\"data row3 col3\" >0.00</td>\n",
       "      <td id=\"T_211d9_row3_col4\" class=\"data row3 col4\" >0.00</td>\n",
       "      <td id=\"T_211d9_row3_col5\" class=\"data row3 col5\" >0.00</td>\n",
       "      <td id=\"T_211d9_row3_col6\" class=\"data row3 col6\" >0.08</td>\n",
       "      <td id=\"T_211d9_row3_col7\" class=\"data row3 col7\" >21.00</td>\n",
       "      <td id=\"T_211d9_row3_col8\" class=\"data row3 col8\" >0.00</td>\n",
       "    </tr>\n",
       "    <tr>\n",
       "      <th id=\"T_211d9_level0_row4\" class=\"row_heading level0 row4\" >25%</th>\n",
       "      <td id=\"T_211d9_row4_col0\" class=\"data row4 col0\" >1.00</td>\n",
       "      <td id=\"T_211d9_row4_col1\" class=\"data row4 col1\" >99.00</td>\n",
       "      <td id=\"T_211d9_row4_col2\" class=\"data row4 col2\" >62.00</td>\n",
       "      <td id=\"T_211d9_row4_col3\" class=\"data row4 col3\" >0.00</td>\n",
       "      <td id=\"T_211d9_row4_col4\" class=\"data row4 col4\" >0.00</td>\n",
       "      <td id=\"T_211d9_row4_col5\" class=\"data row4 col5\" >27.30</td>\n",
       "      <td id=\"T_211d9_row4_col6\" class=\"data row4 col6\" >0.24</td>\n",
       "      <td id=\"T_211d9_row4_col7\" class=\"data row4 col7\" >24.00</td>\n",
       "      <td id=\"T_211d9_row4_col8\" class=\"data row4 col8\" >0.00</td>\n",
       "    </tr>\n",
       "    <tr>\n",
       "      <th id=\"T_211d9_level0_row5\" class=\"row_heading level0 row5\" >50%</th>\n",
       "      <td id=\"T_211d9_row5_col0\" class=\"data row5 col0\" >3.00</td>\n",
       "      <td id=\"T_211d9_row5_col1\" class=\"data row5 col1\" >117.00</td>\n",
       "      <td id=\"T_211d9_row5_col2\" class=\"data row5 col2\" >72.00</td>\n",
       "      <td id=\"T_211d9_row5_col3\" class=\"data row5 col3\" >23.00</td>\n",
       "      <td id=\"T_211d9_row5_col4\" class=\"data row5 col4\" >30.50</td>\n",
       "      <td id=\"T_211d9_row5_col5\" class=\"data row5 col5\" >32.00</td>\n",
       "      <td id=\"T_211d9_row5_col6\" class=\"data row5 col6\" >0.37</td>\n",
       "      <td id=\"T_211d9_row5_col7\" class=\"data row5 col7\" >29.00</td>\n",
       "      <td id=\"T_211d9_row5_col8\" class=\"data row5 col8\" >0.00</td>\n",
       "    </tr>\n",
       "    <tr>\n",
       "      <th id=\"T_211d9_level0_row6\" class=\"row_heading level0 row6\" >75%</th>\n",
       "      <td id=\"T_211d9_row6_col0\" class=\"data row6 col0\" >6.00</td>\n",
       "      <td id=\"T_211d9_row6_col1\" class=\"data row6 col1\" >140.25</td>\n",
       "      <td id=\"T_211d9_row6_col2\" class=\"data row6 col2\" >80.00</td>\n",
       "      <td id=\"T_211d9_row6_col3\" class=\"data row6 col3\" >32.00</td>\n",
       "      <td id=\"T_211d9_row6_col4\" class=\"data row6 col4\" >127.25</td>\n",
       "      <td id=\"T_211d9_row6_col5\" class=\"data row6 col5\" >36.60</td>\n",
       "      <td id=\"T_211d9_row6_col6\" class=\"data row6 col6\" >0.63</td>\n",
       "      <td id=\"T_211d9_row6_col7\" class=\"data row6 col7\" >41.00</td>\n",
       "      <td id=\"T_211d9_row6_col8\" class=\"data row6 col8\" >1.00</td>\n",
       "    </tr>\n",
       "    <tr>\n",
       "      <th id=\"T_211d9_level0_row7\" class=\"row_heading level0 row7\" >max</th>\n",
       "      <td id=\"T_211d9_row7_col0\" class=\"data row7 col0\" >17.00</td>\n",
       "      <td id=\"T_211d9_row7_col1\" class=\"data row7 col1\" >199.00</td>\n",
       "      <td id=\"T_211d9_row7_col2\" class=\"data row7 col2\" >122.00</td>\n",
       "      <td id=\"T_211d9_row7_col3\" class=\"data row7 col3\" >99.00</td>\n",
       "      <td id=\"T_211d9_row7_col4\" class=\"data row7 col4\" >846.00</td>\n",
       "      <td id=\"T_211d9_row7_col5\" class=\"data row7 col5\" >67.10</td>\n",
       "      <td id=\"T_211d9_row7_col6\" class=\"data row7 col6\" >2.42</td>\n",
       "      <td id=\"T_211d9_row7_col7\" class=\"data row7 col7\" >81.00</td>\n",
       "      <td id=\"T_211d9_row7_col8\" class=\"data row7 col8\" >1.00</td>\n",
       "    </tr>\n",
       "  </tbody>\n",
       "</table>\n"
      ],
      "text/plain": [
       "<pandas.io.formats.style.Styler at 0x1fb4b8ded60>"
      ]
     },
     "execution_count": 20,
     "metadata": {},
     "output_type": "execute_result"
    }
   ],
   "source": [
    "df.describe().style.format(\"{:.2f}\")"
   ]
  },
  {
   "cell_type": "code",
   "execution_count": 21,
   "id": "943bee53",
   "metadata": {},
   "outputs": [
    {
     "data": {
      "image/png": "[encoded data removed]",
      "text/plain": [
       "<Figure size 648x648 with 2 Axes>"
      ]
     },
     "metadata": {
      "needs_background": "light"
     },
     "output_type": "display_data"
    }
   ],
   "source": [
    "plt.figure(figsize = (9,9))\n",
    "sns.heatmap(df.corr(), annot = True)\n",
    "plt.show()"
   ]
  },
  {
   "cell_type": "code",
   "execution_count": 23,
   "id": "feea44be",
   "metadata": {},
   "outputs": [],
   "source": [
    "X, Y = df.drop(columns='Outcome', axis=1), df['Outcome']"
   ]
  },
  {
   "cell_type": "code",
   "execution_count": 24,
   "id": "24f52200",
   "metadata": {},
   "outputs": [],
   "source": [
    "X_train, X_test, Y_train, Y_test = train_test_split(X, Y, train_size=0.8, stratify=Y, random_state=42)"
   ]
  },
  {
   "cell_type": "markdown",
   "id": "1a36194a",
   "metadata": {},
   "source": [
    "## Modeling"
   ]
  },
  {
   "cell_type": "code",
   "execution_count": 25,
   "id": "e75dcb7b",
   "metadata": {
    "scrolled": true
   },
   "outputs": [
    {
     "name": "stdout",
     "output_type": "stream",
     "text": [
      "Fitting 5 folds for each of 25 candidates, totalling 125 fits\n",
      "[CV 1/5] END ....................C=0.1, gamma=1;, score=0.650 total time=   0.6s\n",
      "[CV 2/5] END ....................C=0.1, gamma=1;, score=0.650 total time=   0.5s\n",
      "[CV 3/5] END ....................C=0.1, gamma=1;, score=0.650 total time=   0.4s\n",
      "[CV 4/5] END ....................C=0.1, gamma=1;, score=0.650 total time=   0.4s\n",
      "[CV 5/5] END ....................C=0.1, gamma=1;, score=0.656 total time=   0.4s\n",
      "[CV 1/5] END ..................C=0.1, gamma=0.1;, score=0.650 total time=   0.3s\n",
      "[CV 2/5] END ..................C=0.1, gamma=0.1;, score=0.650 total time=   0.4s\n",
      "[CV 3/5] END ..................C=0.1, gamma=0.1;, score=0.650 total time=   0.3s\n",
      "[CV 4/5] END ..................C=0.1, gamma=0.1;, score=0.650 total time=   0.3s\n",
      "[CV 5/5] END ..................C=0.1, gamma=0.1;, score=0.656 total time=   0.3s\n",
      "[CV 1/5] END .................C=0.1, gamma=0.01;, score=0.650 total time=   0.2s\n",
      "[CV 2/5] END .................C=0.1, gamma=0.01;, score=0.650 total time=   0.2s\n",
      "[CV 3/5] END .................C=0.1, gamma=0.01;, score=0.650 total time=   0.2s\n",
      "[CV 4/5] END .................C=0.1, gamma=0.01;, score=0.650 total time=   0.2s\n",
      "[CV 5/5] END .................C=0.1, gamma=0.01;, score=0.656 total time=   0.2s\n",
      "[CV 1/5] END ................C=0.1, gamma=0.001;, score=0.675 total time=   0.1s\n",
      "[CV 2/5] END ................C=0.1, gamma=0.001;, score=0.683 total time=   0.1s\n",
      "[CV 3/5] END ................C=0.1, gamma=0.001;, score=0.683 total time=   0.1s\n",
      "[CV 4/5] END ................C=0.1, gamma=0.001;, score=0.634 total time=   0.1s\n",
      "[CV 5/5] END ................C=0.1, gamma=0.001;, score=0.680 total time=   0.1s\n",
      "[CV 1/5] END ...............C=0.1, gamma=0.0001;, score=0.772 total time=   0.1s\n",
      "[CV 2/5] END ...............C=0.1, gamma=0.0001;, score=0.724 total time=   0.0s\n",
      "[CV 3/5] END ...............C=0.1, gamma=0.0001;, score=0.732 total time=   0.0s\n",
      "[CV 4/5] END ...............C=0.1, gamma=0.0001;, score=0.724 total time=   0.0s\n",
      "[CV 5/5] END ...............C=0.1, gamma=0.0001;, score=0.795 total time=   0.0s\n",
      "[CV 1/5] END ......................C=1, gamma=1;, score=0.650 total time=   0.5s\n",
      "[CV 2/5] END ......................C=1, gamma=1;, score=0.650 total time=   0.5s\n",
      "[CV 3/5] END ......................C=1, gamma=1;, score=0.650 total time=   0.5s\n",
      "[CV 4/5] END ......................C=1, gamma=1;, score=0.650 total time=   0.5s\n",
      "[CV 5/5] END ......................C=1, gamma=1;, score=0.656 total time=   0.5s\n",
      "[CV 1/5] END ....................C=1, gamma=0.1;, score=0.650 total time=   0.5s\n",
      "[CV 2/5] END ....................C=1, gamma=0.1;, score=0.650 total time=   0.5s\n",
      "[CV 3/5] END ....................C=1, gamma=0.1;, score=0.650 total time=   0.4s\n",
      "[CV 4/5] END ....................C=1, gamma=0.1;, score=0.650 total time=   0.4s\n",
      "[CV 5/5] END ....................C=1, gamma=0.1;, score=0.656 total time=   0.4s\n",
      "[CV 1/5] END ...................C=1, gamma=0.01;, score=0.667 total time=   0.2s\n",
      "[CV 2/5] END ...................C=1, gamma=0.01;, score=0.683 total time=   0.2s\n",
      "[CV 3/5] END ...................C=1, gamma=0.01;, score=0.707 total time=   0.2s\n",
      "[CV 4/5] END ...................C=1, gamma=0.01;, score=0.659 total time=   0.2s\n",
      "[CV 5/5] END ...................C=1, gamma=0.01;, score=0.656 total time=   0.2s\n",
      "[CV 1/5] END ..................C=1, gamma=0.001;, score=0.732 total time=   0.1s\n",
      "[CV 2/5] END ..................C=1, gamma=0.001;, score=0.756 total time=   0.1s\n",
      "[CV 3/5] END ..................C=1, gamma=0.001;, score=0.732 total time=   0.1s\n",
      "[CV 4/5] END ..................C=1, gamma=0.001;, score=0.715 total time=   0.1s\n",
      "[CV 5/5] END ..................C=1, gamma=0.001;, score=0.762 total time=   0.1s\n",
      "[CV 1/5] END .................C=1, gamma=0.0001;, score=0.756 total time=   0.1s\n",
      "[CV 2/5] END .................C=1, gamma=0.0001;, score=0.789 total time=   0.0s\n",
      "[CV 3/5] END .................C=1, gamma=0.0001;, score=0.740 total time=   0.0s\n",
      "[CV 4/5] END .................C=1, gamma=0.0001;, score=0.748 total time=   0.0s\n",
      "[CV 5/5] END .................C=1, gamma=0.0001;, score=0.811 total time=   0.0s\n",
      "[CV 1/5] END .....................C=10, gamma=1;, score=0.650 total time=   0.7s\n",
      "[CV 2/5] END .....................C=10, gamma=1;, score=0.650 total time=   0.6s\n",
      "[CV 3/5] END .....................C=10, gamma=1;, score=0.650 total time=   0.6s\n",
      "[CV 4/5] END .....................C=10, gamma=1;, score=0.650 total time=   0.7s\n",
      "[CV 5/5] END .....................C=10, gamma=1;, score=0.656 total time=   0.7s\n",
      "[CV 1/5] END ...................C=10, gamma=0.1;, score=0.650 total time=   0.5s\n",
      "[CV 2/5] END ...................C=10, gamma=0.1;, score=0.650 total time=   0.6s\n",
      "[CV 3/5] END ...................C=10, gamma=0.1;, score=0.650 total time=   0.6s\n",
      "[CV 4/5] END ...................C=10, gamma=0.1;, score=0.650 total time=   0.6s\n",
      "[CV 5/5] END ...................C=10, gamma=0.1;, score=0.656 total time=   0.7s\n",
      "[CV 1/5] END ..................C=10, gamma=0.01;, score=0.659 total time=   0.3s\n",
      "[CV 2/5] END ..................C=10, gamma=0.01;, score=0.659 total time=   0.3s\n",
      "[CV 3/5] END ..................C=10, gamma=0.01;, score=0.659 total time=   0.3s\n",
      "[CV 4/5] END ..................C=10, gamma=0.01;, score=0.626 total time=   0.3s\n",
      "[CV 5/5] END ..................C=10, gamma=0.01;, score=0.680 total time=   0.3s\n",
      "[CV 1/5] END .................C=10, gamma=0.001;, score=0.748 total time=   0.3s\n",
      "[CV 2/5] END .................C=10, gamma=0.001;, score=0.740 total time=   0.3s\n",
      "[CV 3/5] END .................C=10, gamma=0.001;, score=0.691 total time=   0.4s\n",
      "[CV 4/5] END .................C=10, gamma=0.001;, score=0.691 total time=   0.4s\n",
      "[CV 5/5] END .................C=10, gamma=0.001;, score=0.738 total time=   0.3s\n",
      "[CV 1/5] END ................C=10, gamma=0.0001;, score=0.764 total time=   0.2s\n",
      "[CV 2/5] END ................C=10, gamma=0.0001;, score=0.772 total time=   0.1s\n",
      "[CV 3/5] END ................C=10, gamma=0.0001;, score=0.756 total time=   0.1s\n",
      "[CV 4/5] END ................C=10, gamma=0.0001;, score=0.740 total time=   0.1s\n",
      "[CV 5/5] END ................C=10, gamma=0.0001;, score=0.787 total time=   0.1s\n",
      "[CV 1/5] END ....................C=100, gamma=1;, score=0.650 total time=   0.9s\n",
      "[CV 2/5] END ....................C=100, gamma=1;, score=0.650 total time=   0.7s\n",
      "[CV 3/5] END ....................C=100, gamma=1;, score=0.650 total time=   0.7s\n",
      "[CV 4/5] END ....................C=100, gamma=1;, score=0.650 total time=   0.8s\n",
      "[CV 5/5] END ....................C=100, gamma=1;, score=0.656 total time=   0.7s\n",
      "[CV 1/5] END ..................C=100, gamma=0.1;, score=0.650 total time=   0.6s\n",
      "[CV 2/5] END ..................C=100, gamma=0.1;, score=0.650 total time=   0.6s\n",
      "[CV 3/5] END ..................C=100, gamma=0.1;, score=0.650 total time=   0.6s\n",
      "[CV 4/5] END ..................C=100, gamma=0.1;, score=0.650 total time=   0.7s\n",
      "[CV 5/5] END ..................C=100, gamma=0.1;, score=0.656 total time=   0.7s\n",
      "[CV 1/5] END .................C=100, gamma=0.01;, score=0.659 total time=   0.5s\n",
      "[CV 2/5] END .................C=100, gamma=0.01;, score=0.659 total time=   0.3s\n",
      "[CV 3/5] END .................C=100, gamma=0.01;, score=0.659 total time=   0.4s\n",
      "[CV 4/5] END .................C=100, gamma=0.01;, score=0.626 total time=   0.3s\n",
      "[CV 5/5] END .................C=100, gamma=0.01;, score=0.680 total time=   0.3s\n",
      "[CV 1/5] END ................C=100, gamma=0.001;, score=0.683 total time=   0.8s\n",
      "[CV 2/5] END ................C=100, gamma=0.001;, score=0.675 total time=   0.9s\n",
      "[CV 3/5] END ................C=100, gamma=0.001;, score=0.626 total time=   0.7s\n",
      "[CV 4/5] END ................C=100, gamma=0.001;, score=0.691 total time=   0.8s\n",
      "[CV 5/5] END ................C=100, gamma=0.001;, score=0.730 total time=   0.8s\n",
      "[CV 1/5] END ...............C=100, gamma=0.0001;, score=0.740 total time=   0.6s\n",
      "[CV 2/5] END ...............C=100, gamma=0.0001;, score=0.772 total time=   0.8s\n",
      "[CV 3/5] END ...............C=100, gamma=0.0001;, score=0.724 total time=   0.7s\n",
      "[CV 4/5] END ...............C=100, gamma=0.0001;, score=0.724 total time=   0.7s\n",
      "[CV 5/5] END ...............C=100, gamma=0.0001;, score=0.754 total time=   0.8s\n",
      "[CV 1/5] END ...................C=1000, gamma=1;, score=0.650 total time=   0.9s\n"
     ]
    },
    {
     "name": "stdout",
     "output_type": "stream",
     "text": [
      "[CV 2/5] END ...................C=1000, gamma=1;, score=0.650 total time=   0.8s\n",
      "[CV 3/5] END ...................C=1000, gamma=1;, score=0.650 total time=   0.9s\n",
      "[CV 4/5] END ...................C=1000, gamma=1;, score=0.650 total time=   0.8s\n",
      "[CV 5/5] END ...................C=1000, gamma=1;, score=0.656 total time=   0.8s\n",
      "[CV 1/5] END .................C=1000, gamma=0.1;, score=0.650 total time=   0.7s\n",
      "[CV 2/5] END .................C=1000, gamma=0.1;, score=0.650 total time=   0.6s\n",
      "[CV 3/5] END .................C=1000, gamma=0.1;, score=0.650 total time=   0.7s\n",
      "[CV 4/5] END .................C=1000, gamma=0.1;, score=0.650 total time=   0.6s\n",
      "[CV 5/5] END .................C=1000, gamma=0.1;, score=0.656 total time=   0.6s\n",
      "[CV 1/5] END ................C=1000, gamma=0.01;, score=0.659 total time=   0.3s\n",
      "[CV 2/5] END ................C=1000, gamma=0.01;, score=0.659 total time=   0.3s\n",
      "[CV 3/5] END ................C=1000, gamma=0.01;, score=0.659 total time=   0.3s\n",
      "[CV 4/5] END ................C=1000, gamma=0.01;, score=0.626 total time=   0.3s\n",
      "[CV 5/5] END ................C=1000, gamma=0.01;, score=0.680 total time=   0.3s\n",
      "[CV 1/5] END ...............C=1000, gamma=0.001;, score=0.683 total time=   1.2s\n",
      "[CV 2/5] END ...............C=1000, gamma=0.001;, score=0.699 total time=   1.2s\n",
      "[CV 3/5] END ...............C=1000, gamma=0.001;, score=0.642 total time=   1.1s\n",
      "[CV 4/5] END ...............C=1000, gamma=0.001;, score=0.667 total time=   1.4s\n",
      "[CV 5/5] END ...............C=1000, gamma=0.001;, score=0.672 total time=   1.6s\n",
      "[CV 1/5] END ..............C=1000, gamma=0.0001;, score=0.748 total time=   3.6s\n",
      "[CV 2/5] END ..............C=1000, gamma=0.0001;, score=0.748 total time=   3.8s\n",
      "[CV 3/5] END ..............C=1000, gamma=0.0001;, score=0.659 total time=   4.3s\n",
      "[CV 4/5] END ..............C=1000, gamma=0.0001;, score=0.732 total time=   4.3s\n",
      "[CV 5/5] END ..............C=1000, gamma=0.0001;, score=0.746 total time=   4.3s\n"
     ]
    },
    {
     "data": {
      "text/plain": [
       "GridSearchCV(estimator=SVC(cache_size=10000, class_weight={0: 1, 1: 1.1},\n",
       "                           probability=True),\n",
       "             param_grid={'C': [0.1, 1, 10, 100, 1000],\n",
       "                         'gamma': [1, 0.1, 0.01, 0.001, 0.0001]},\n",
       "             verbose=3)"
      ]
     },
     "execution_count": 25,
     "metadata": {},
     "output_type": "execute_result"
    }
   ],
   "source": [
    "param_grid = {\n",
    "    'C': [0.1, 1, 10, 100, 1000],\n",
    "    'gamma': [1, 0.1, 0.01, 0.001, 0.0001]\n",
    "}\n",
    "\n",
    "grid = GridSearchCV(SVC(probability=True, cache_size=10000, class_weight={1: 1.1, 0: 1}), param_grid, refit=True, verbose=3)\n",
    "grid.fit(X_train, Y_train)"
   ]
  },
  {
   "cell_type": "markdown",
   "id": "7d763ca1",
   "metadata": {},
   "source": [
    "## Hasil dan Pembahasan"
   ]
  },
  {
   "cell_type": "code",
   "execution_count": 26,
   "id": "9681bd1d",
   "metadata": {},
   "outputs": [
    {
     "name": "stdout",
     "output_type": "stream",
     "text": [
      "{'C': 1, 'gamma': 0.0001}\n",
      "SVC(C=1, cache_size=10000, class_weight={0: 1, 1: 1.1}, gamma=0.0001,\n",
      "    probability=True)\n"
     ]
    }
   ],
   "source": [
    "print(grid.best_params_)\n",
    "print(grid.best_estimator_)"
   ]
  },
  {
   "cell_type": "code",
   "execution_count": 27,
   "id": "d8d5899f",
   "metadata": {},
   "outputs": [
    {
     "name": "stdout",
     "output_type": "stream",
     "text": [
      "Accuracy score of the training data :  0.7833876221498371\n"
     ]
    }
   ],
   "source": [
    "# accuracy score on the training data\n",
    "X_train_prediction = grid.predict(X_train)\n",
    "training_data_accuracy = accuracy_score(X_train_prediction, Y_train)\n",
    "print('Accuracy score of the training data : ', training_data_accuracy)"
   ]
  },
  {
   "cell_type": "code",
   "execution_count": 28,
   "id": "433f1e5a",
   "metadata": {},
   "outputs": [
    {
     "name": "stdout",
     "output_type": "stream",
     "text": [
      "Accuracy score of the test data :  0.7402597402597403\n"
     ]
    }
   ],
   "source": [
    "# accuracy score on the test data\n",
    "X_test_prediction = grid.predict(X_test)\n",
    "test_data_accuracy = accuracy_score(X_test_prediction, Y_test)\n",
    "print('Accuracy score of the test data : ', test_data_accuracy)"
   ]
  },
  {
   "cell_type": "code",
   "execution_count": 30,
   "id": "d8859f48",
   "metadata": {},
   "outputs": [
    {
     "name": "stdout",
     "output_type": "stream",
     "text": [
      "              precision    recall  f1-score   support\n",
      "\n",
      "           0       0.77      0.86      0.81       100\n",
      "           1       0.67      0.52      0.58        54\n",
      "\n",
      "    accuracy                           0.74       154\n",
      "   macro avg       0.72      0.69      0.70       154\n",
      "weighted avg       0.73      0.74      0.73       154\n",
      "\n"
     ]
    }
   ],
   "source": [
    "print(classification_report(Y_test, X_test_prediction))"
   ]
  },
  {
   "cell_type": "code",
   "execution_count": null,
   "id": "ac905de6",
   "metadata": {},
   "outputs": [],
   "source": [
    "pickle.dump(grid, open('grid_model.sav', 'wb'))"
   ]
  },
  {
   "cell_type": "markdown",
   "id": "717e213a",
   "metadata": {},
   "source": [
    "## Deployment"
   ]
  },
  {
   "cell_type": "markdown",
   "id": "f6a96d38",
   "metadata": {},
   "source": [
    "Link: https://kelompok-1-shpkb.streamlit.app/\n",
    "![](./images/deployment.jpg)"
   ]
  },
  {
   "cell_type": "markdown",
   "id": "1d3f95d4",
   "metadata": {},
   "source": [
    "## Kesimpulan"
   ]
  },
  {
   "cell_type": "markdown",
   "id": "07184a1e",
   "metadata": {},
   "source": [
    "1. Hasil pengujian menunjukkan akurasi terbesar didapatkan pada nilai parameter C=1 dan gamma=0.0001, dimana menghasilkan akurasi cukup baik 74%.  \n",
    "\n",
    "2. Dalam pengembangan selanjutnya, perlu dilakukan pengujian dengan menggunakan metode atau algoritma lainnya sebagai bahan perbandingan."
   ]
  }
 ],
 "metadata": {
  "kernelspec": {
   "display_name": "Python 3 (ipykernel)",
   "language": "python",
   "name": "python3"
  },
  "language_info": {
   "codemirror_mode": {
    "name": "ipython",
    "version": 3
   },
   "file_extension": ".py",
   "mimetype": "text/x-python",
   "name": "python",
   "nbconvert_exporter": "python",
   "pygments_lexer": "ipython3",
   "version": "3.9.12"
  }
 },
 "nbformat": 4,
 "nbformat_minor": 5
}
